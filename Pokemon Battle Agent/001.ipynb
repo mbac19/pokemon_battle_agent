{
 "cells": [
  {
   "cell_type": "markdown",
   "id": "9ffaa541-6a64-492d-b44a-7dca75d985f7",
   "metadata": {},
   "source": [
    "# Building a Pokémon Battle Agent\n",
    "\n",
    "Pokémon is a deeply nostalgic trend from my childhood. I have tons of fond memories collecting cards with friends on the playground and trading off the Game Boy with my little brother as we make our way through Pokémon Yellow. As I started taking courses and reading papers in ML, I couldn't help but think that we could make a fun project out of applying AI to building a Pokémon agent. So, let's do it! This is officially the first post where we put together an AI agent that can play Pokémon.\n",
    "\n",
    "Specifically, I'd like to build an agent that can conduct a Pokémon battle. The end goals of this project are:\n",
    "- Build a basic agent that can do 1v1 Pokémon battles\n",
    "- Create a basic training environment where we can simulate battles, train agents, and evaluate quality\n",
    "- Train an agent that can reliably beat me in a Pokémon battle\n"
   ]
  },
  {
   "cell_type": "markdown",
   "id": "ece5bf83-0c10-4b52-b6a8-ea8b4a176c17",
   "metadata": {},
   "source": [
    "## Pokémon Showdown\n",
    "\n",
    "Before we actually start building the agent, we need to take a survey of the technologies that we can use to build, train, and evaluate our agent. A great place to start is the open-source project [Pokemon Showdown](https://pokemonshowdown.com/) which is an online battle platform for people to play. This site has a wealth of resources that we can take advantage of to bootstrap this project.\n",
    "\n",
    "They provide us an open-source [Github Repository](https://github.com/smogon/pokemon-showdown) containing a well-documented library for simulating battles with full GUI support. The website also contains [Battle Replays](https://replay.pokemonshowdown.com/) which we can use to collect data and statistics on previous battles for training purposes.\n",
    "\n",
    "The first thing to do is to build a basic test environment for agents using these resources provided to us. We can save a lot of time iterating on agents if we can easily plug in new bots into an environment that will test and evaluate them automatically. More on this later.\n",
    "\n"
   ]
  },
  {
   "cell_type": "markdown",
   "id": "9760dad7",
   "metadata": {},
   "source": [
    "## Getting Started\n",
    "\n",
    "The first thing to do is get a server running locally for Pokémon Showdown."
   ]
  },
  {
   "cell_type": "markdown",
   "id": "46878fa4",
   "metadata": {},
   "source": []
  }
 ],
 "metadata": {
  "kernelspec": {
   "display_name": "Python 3 (ipykernel)",
   "language": "python",
   "name": "python3"
  },
  "language_info": {
   "codemirror_mode": {
    "name": "ipython",
    "version": 3
   },
   "file_extension": ".py",
   "mimetype": "text/x-python",
   "name": "python",
   "nbconvert_exporter": "python",
   "pygments_lexer": "ipython3",
   "version": "3.9.7"
  }
 },
 "nbformat": 4,
 "nbformat_minor": 5
}
