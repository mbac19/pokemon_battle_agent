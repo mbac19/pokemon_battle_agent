{
 "cells": [
  {
   "cell_type": "markdown",
   "metadata": {},
   "source": [
    "## Exploring Battle Logs"
   ]
  },
  {
   "cell_type": "code",
   "execution_count": 373,
   "metadata": {},
   "outputs": [],
   "source": [
    "from bs4 import BeautifulSoup\n"
   ]
  },
  {
   "cell_type": "markdown",
   "metadata": {},
   "source": [
    "## Constants"
   ]
  },
  {
   "cell_type": "code",
   "execution_count": 374,
   "metadata": {},
   "outputs": [],
   "source": [
    "\n",
    "INPUT_DIR=\"../battle_data\"\n",
    "OUTPUT_DIR=\"../stats_data\"\n",
    "\n",
    "\n",
    "UNKNOWN_POKEMON = '__UNKNOWN_POKEMON__'\n",
    "NO_POKEMON = '__NO_POKEMON__'\n",
    "UNKNOWN_RATING = None\n"
   ]
  },
  {
   "cell_type": "markdown",
   "metadata": {},
   "source": [
    "## Generating Battle CSV Data"
   ]
  },
  {
   "cell_type": "code",
   "execution_count": 375,
   "metadata": {},
   "outputs": [],
   "source": [
    "class Player:\n",
    "    def __init__(self, id, logs):\n",
    "        self.id = id\n",
    "        \n",
    "        for log in logs:\n",
    "            if log[0] == \"player\" and log[1] == id and len(log) > 2:\n",
    "                self.player_name = log[2]\n",
    "                self.rating = UNKNOWN_RATING if len(log[4]) == 0 else int(log[4])\n",
    "                break\n",
    "\n"
   ]
  },
  {
   "cell_type": "code",
   "execution_count": 376,
   "metadata": {},
   "outputs": [],
   "source": [
    "\n",
    "class Pokemon:\n",
    "    def __init__(self, player, id, species, logs):\n",
    "        self.id = id\n",
    "        self.player = player\n",
    "        self.species = species\n",
    "        self._logs = logs\n",
    "\n"
   ]
  },
  {
   "cell_type": "code",
   "execution_count": 377,
   "metadata": {},
   "outputs": [],
   "source": [
    "class PokemonTeam:\n",
    "    def __init__(self, player, logs):\n",
    "        self.player = player\n",
    "        self._logs = logs\n",
    "        self._pokemon_map = {}\n",
    "        self._pokemon = []\n",
    "        self._load_pokemon()\n",
    "\n",
    "\n",
    "    def __len__(self):\n",
    "        for log in self._logs:\n",
    "            if log[0] == 'teamsize' and log[1] == self.player.id:\n",
    "                return int(log[2])\n",
    "\n",
    "        return 0\n",
    "\n",
    "\n",
    "    def __getitem__(self, i):\n",
    "        return self._pokemon[i]\n",
    "\n",
    "\n",
    "    def __iter__(self):\n",
    "        for poke in self._pokemon:\n",
    "            yield poke\n",
    "\n",
    "\n",
    "    @property\n",
    "    def has_unknown_pokemon(self):\n",
    "        for p in self._pokemon:\n",
    "            if p.species == UNKNOWN_POKEMON:\n",
    "                return True\n",
    "\n",
    "        return False\n",
    "\n",
    "\n",
    "    @property\n",
    "    def known_count(self):\n",
    "        count = 0\n",
    "        for p in self._pokemon:\n",
    "            if p.species != UNKNOWN_POKEMON:\n",
    "                count += 1\n",
    "\n",
    "        return count\n",
    "\n",
    "\n",
    "    def _load_pokemon(self):\n",
    "        prefix = self.player.id + \"a: \"\n",
    "        count = len(self)\n",
    "        found_count = 0\n",
    "\n",
    "        for log in self._logs:\n",
    "            player_prefix = self.player.id + \"a: \"\n",
    "            if log[0] == 'switch' and log[1].startswith(player_prefix):\n",
    "                p_id = log[1]\n",
    "\n",
    "                if p_id in self._pokemon_map:\n",
    "                    continue\n",
    "\n",
    "                species = p_id[len(player_prefix):]\n",
    "\n",
    "                pokemon = Pokemon(player=self.player, id=p_id, species=species, logs=self._logs)\n",
    "\n",
    "                self._pokemon_map[p_id] = len(self._pokemon)\n",
    "                self._pokemon.append(pokemon)\n",
    "                found_count += 1\n",
    "\n",
    "        while found_count < count:\n",
    "            p_id = prefix + UNKNOWN_POKEMON + \" \" + str(count - found_count)\n",
    "            pokemon = Pokemon(player=self.player, id=p_id, species=UNKNOWN_POKEMON, logs=self._logs)\n",
    "            self._pokemon_map[p_id] = len(self._pokemon)\n",
    "            self._pokemon.append(pokemon)\n",
    "            found_count += 1\n",
    "\n",
    "\n"
   ]
  },
  {
   "cell_type": "code",
   "execution_count": 378,
   "metadata": {},
   "outputs": [],
   "source": [
    "class BattleLogs:\n",
    "    def __init__(self, logs):\n",
    "        self._logs = logs\n",
    "        self.p1 = Player(id=\"p1\", logs=logs)\n",
    "        self.p2 = Player(id=\"p2\", logs=logs)\n",
    "\n",
    " \n",
    "    @property\n",
    "    def turn_count(self):\n",
    "        count = 0\n",
    "        for log in self._logs:\n",
    "            if log[0] == \"turn\":\n",
    "                count = max(count, int(log[1]))\n",
    "\n",
    "        return count\n",
    "\n",
    "\n",
    "    @property\n",
    "    def tier(self):\n",
    "        for log in self._logs:\n",
    "            if log[0] == \"tier\":\n",
    "                return log[1]\n",
    "\n",
    "    @property\n",
    "    def is_rated(self):\n",
    "        for log in self._logs:\n",
    "            if log[0] == 'rated':\n",
    "                return True\n",
    "\n",
    "        return False\n",
    "\n",
    "    \n",
    "    @property\n",
    "    def rules(self):\n",
    "        return [x[1] for x in self._logs if x[0] == 'rule']\n",
    "\n",
    "\n",
    "    @property\n",
    "    def p1_team(self):\n",
    "        return PokemonTeam(player=self.p1, logs=self._logs)\n",
    "\n",
    "\n",
    "    @property\n",
    "    def p2_team(self):\n",
    "        return PokemonTeam(player=self.p2, logs=self._logs)\n",
    "\n",
    "\n",
    "    @property\n",
    "    def winner(self):\n",
    "        for log in self._logs:\n",
    "            if log[0] == \"win\":\n",
    "                player_name = log[1]\n",
    "                break\n",
    "\n",
    "        if self.p1.player_name == player_name:\n",
    "            return self.p1\n",
    "        elif self.p2.player_name == player_name:\n",
    "            return self.p2\n",
    "        else:\n",
    "            return None\n",
    "\n"
   ]
  },
  {
   "cell_type": "code",
   "execution_count": 379,
   "metadata": {},
   "outputs": [],
   "source": [
    "import pandas as pd\n",
    "\n",
    "# Number of log files we have in our data.\n",
    "LOGS_COUNT = 225\n"
   ]
  },
  {
   "cell_type": "code",
   "execution_count": 380,
   "metadata": {},
   "outputs": [
    {
     "name": "stdout",
     "output_type": "stream",
     "text": [
      "Duraludon\n",
      "Archeops\n",
      "Gothitelle\n",
      "Regidrago\n",
      "Darmanitan\n",
      "Lunala\n",
      "<__main__.Player object at 0x7fd7c9353d00>\n"
     ]
    }
   ],
   "source": [
    "with open('../battle_data/0001.html') as file:\n",
    "    soup = BeautifulSoup(file, \"html.parser\")\n",
    "    el = soup.find_all(\"script\", class_=\"battle-log-data\")[0]\n",
    "    raw_logs = [x.split('|')[1:] for x in el.text.split('\\n') if len(x) > 0]\n",
    "\n",
    "logs = BattleLogs(logs=raw_logs)\n",
    "\n",
    "for pokemon in logs.p2_team:\n",
    "    print(pokemon.species)\n",
    "\n",
    "print(logs.winner)\n"
   ]
  },
  {
   "cell_type": "code",
   "execution_count": 381,
   "metadata": {},
   "outputs": [],
   "source": [
    "pokedex = pd.read_csv('../stats_data/dex.csv')\n"
   ]
  },
  {
   "cell_type": "code",
   "execution_count": 382,
   "metadata": {},
   "outputs": [],
   "source": [
    "def generate_frame(logs_count):\n",
    "    idx = [\n",
    "        'p1_name',\n",
    "        'p2_name',\n",
    "        'p_winner',\n",
    "        'is_rated_battle',\n",
    "        'p1_rating',\n",
    "        'p2_rating',\n",
    "        'team1_count',\n",
    "        'team2_count',\n",
    "        'turn_count',\n",
    "        'p1_poke1',\n",
    "        'p1_poke2',\n",
    "        'p1_poke3',\n",
    "        'p1_poke4',\n",
    "        'p1_poke5',\n",
    "        'p1_poke6',\n",
    "        'p2_poke1',\n",
    "        'p2_poke2',\n",
    "        'p2_poke3',\n",
    "        'p2_poke4',\n",
    "        'p2_poke5',\n",
    "        'p2_poke6',\n",
    "        'team1_unknown_count',\n",
    "        'team2_unknown_count']\n",
    "\n",
    "    df = pd.DataFrame()\n",
    "    list = []\n",
    "\n",
    "    for i in range(logs_count):\n",
    "        filename = INPUT_DIR + \"/\" + str(i + 1).zfill(4) + \".html\"\n",
    "\n",
    "        with open(filename) as file:\n",
    "                soup = BeautifulSoup(file, \"html.parser\")\n",
    "                el = soup.find_all(\"script\", class_=\"battle-log-data\")[0]\n",
    "                raw_logs = [x.split('|')[1:] for x in el.text.split('\\n') if len(x) > 0]\n",
    "\n",
    "        logs = BattleLogs(raw_logs)\n",
    "\n",
    "        p1_team_len = len(logs.p1_team)\n",
    "        p2_team_len = len(logs.p2_team)\n",
    "\n",
    "        list.append(pd.Series([\n",
    "            logs.p1.player_name,\n",
    "            logs.p2.player_name,\n",
    "            logs.winner.id,\n",
    "            logs.is_rated,\n",
    "            logs.p1.rating,\n",
    "            logs.p2.rating,\n",
    "            p1_team_len,\n",
    "            p2_team_len,\n",
    "            logs.turn_count,\n",
    "            NO_POKEMON if len(logs.p1_team) <= 0 else logs.p1_team[0].species,\n",
    "            NO_POKEMON if len(logs.p1_team) <= 1 else logs.p1_team[1].species,\n",
    "            NO_POKEMON if len(logs.p1_team) <= 2 else logs.p1_team[2].species,\n",
    "            NO_POKEMON if len(logs.p1_team) <= 3 else logs.p1_team[3].species,\n",
    "            NO_POKEMON if len(logs.p1_team) <= 4 else logs.p1_team[4].species,\n",
    "            NO_POKEMON if len(logs.p1_team) <= 5 else logs.p1_team[5].species,\n",
    "            NO_POKEMON if len(logs.p1_team) <= 0 else logs.p1_team[0].species,\n",
    "            NO_POKEMON if len(logs.p1_team) <= 1 else logs.p1_team[1].species,\n",
    "            NO_POKEMON if len(logs.p1_team) <= 2 else logs.p1_team[2].species,\n",
    "            NO_POKEMON if len(logs.p1_team) <= 3 else logs.p1_team[3].species,\n",
    "            NO_POKEMON if len(logs.p1_team) <= 4 else logs.p1_team[4].species,\n",
    "            NO_POKEMON if len(logs.p1_team) <= 5 else logs.p1_team[5].species,\n",
    "            p1_team_len - logs.p1_team.known_count,\n",
    "            p2_team_len - logs.p2_team.known_count,\n",
    "        ]))\n",
    "\n",
    "    df = pd.concat(list, axis=1).T\n",
    "    df.columns = idx\n",
    "    return df\n",
    "\n"
   ]
  },
  {
   "cell_type": "code",
   "execution_count": 383,
   "metadata": {},
   "outputs": [
    {
     "data": {
      "text/html": [
       "<div>\n",
       "<style scoped>\n",
       "    .dataframe tbody tr th:only-of-type {\n",
       "        vertical-align: middle;\n",
       "    }\n",
       "\n",
       "    .dataframe tbody tr th {\n",
       "        vertical-align: top;\n",
       "    }\n",
       "\n",
       "    .dataframe thead th {\n",
       "        text-align: right;\n",
       "    }\n",
       "</style>\n",
       "<table border=\"1\" class=\"dataframe\">\n",
       "  <thead>\n",
       "    <tr style=\"text-align: right;\">\n",
       "      <th></th>\n",
       "      <th>p1_name</th>\n",
       "      <th>p2_name</th>\n",
       "      <th>p_winner</th>\n",
       "      <th>is_rated_battle</th>\n",
       "      <th>p1_rating</th>\n",
       "      <th>p2_rating</th>\n",
       "      <th>team1_count</th>\n",
       "      <th>team2_count</th>\n",
       "      <th>turn_count</th>\n",
       "      <th>p1_poke1</th>\n",
       "      <th>...</th>\n",
       "      <th>p1_poke5</th>\n",
       "      <th>p1_poke6</th>\n",
       "      <th>p2_poke1</th>\n",
       "      <th>p2_poke2</th>\n",
       "      <th>p2_poke3</th>\n",
       "      <th>p2_poke4</th>\n",
       "      <th>p2_poke5</th>\n",
       "      <th>p2_poke6</th>\n",
       "      <th>team1_unknown_count</th>\n",
       "      <th>team2_unknown_count</th>\n",
       "    </tr>\n",
       "  </thead>\n",
       "  <tbody>\n",
       "    <tr>\n",
       "      <th>0</th>\n",
       "      <td>Rhodes28</td>\n",
       "      <td>sbq1e</td>\n",
       "      <td>p1</td>\n",
       "      <td>True</td>\n",
       "      <td>1391</td>\n",
       "      <td>1440</td>\n",
       "      <td>6</td>\n",
       "      <td>6</td>\n",
       "      <td>12</td>\n",
       "      <td>Dragapult</td>\n",
       "      <td>...</td>\n",
       "      <td>__UNKNOWN_POKEMON__</td>\n",
       "      <td>__UNKNOWN_POKEMON__</td>\n",
       "      <td>Dragapult</td>\n",
       "      <td>Darmanitan</td>\n",
       "      <td>Lycanroc</td>\n",
       "      <td>Lapras</td>\n",
       "      <td>__UNKNOWN_POKEMON__</td>\n",
       "      <td>__UNKNOWN_POKEMON__</td>\n",
       "      <td>2</td>\n",
       "      <td>0</td>\n",
       "    </tr>\n",
       "    <tr>\n",
       "      <th>1</th>\n",
       "      <td>Xebrilag27</td>\n",
       "      <td>Rage69</td>\n",
       "      <td>p2</td>\n",
       "      <td>True</td>\n",
       "      <td>1754</td>\n",
       "      <td>1784</td>\n",
       "      <td>6</td>\n",
       "      <td>6</td>\n",
       "      <td>26</td>\n",
       "      <td>Arctovish</td>\n",
       "      <td>...</td>\n",
       "      <td>Electivire</td>\n",
       "      <td>Sirfetch’d</td>\n",
       "      <td>Arctovish</td>\n",
       "      <td>Salazzle</td>\n",
       "      <td>Jellicent</td>\n",
       "      <td>Blacephalon</td>\n",
       "      <td>Electivire</td>\n",
       "      <td>Sirfetch’d</td>\n",
       "      <td>0</td>\n",
       "      <td>1</td>\n",
       "    </tr>\n",
       "    <tr>\n",
       "      <th>2</th>\n",
       "      <td>Raccoonis</td>\n",
       "      <td>WhoIsJoeLigma?</td>\n",
       "      <td>p1</td>\n",
       "      <td>True</td>\n",
       "      <td>1085</td>\n",
       "      <td>1058</td>\n",
       "      <td>6</td>\n",
       "      <td>6</td>\n",
       "      <td>23</td>\n",
       "      <td>Haxorus</td>\n",
       "      <td>...</td>\n",
       "      <td>Luxray</td>\n",
       "      <td>__UNKNOWN_POKEMON__</td>\n",
       "      <td>Haxorus</td>\n",
       "      <td>Urshifu</td>\n",
       "      <td>Dubwool</td>\n",
       "      <td>Duraludon</td>\n",
       "      <td>Luxray</td>\n",
       "      <td>__UNKNOWN_POKEMON__</td>\n",
       "      <td>1</td>\n",
       "      <td>0</td>\n",
       "    </tr>\n",
       "    <tr>\n",
       "      <th>3</th>\n",
       "      <td>bembi</td>\n",
       "      <td>SecondaryStomach</td>\n",
       "      <td>p1</td>\n",
       "      <td>True</td>\n",
       "      <td>1269</td>\n",
       "      <td>1315</td>\n",
       "      <td>6</td>\n",
       "      <td>6</td>\n",
       "      <td>14</td>\n",
       "      <td>Ludicolo</td>\n",
       "      <td>...</td>\n",
       "      <td>__UNKNOWN_POKEMON__</td>\n",
       "      <td>__UNKNOWN_POKEMON__</td>\n",
       "      <td>Ludicolo</td>\n",
       "      <td>Thundurus</td>\n",
       "      <td>Magearna</td>\n",
       "      <td>__UNKNOWN_POKEMON__</td>\n",
       "      <td>__UNKNOWN_POKEMON__</td>\n",
       "      <td>__UNKNOWN_POKEMON__</td>\n",
       "      <td>3</td>\n",
       "      <td>0</td>\n",
       "    </tr>\n",
       "    <tr>\n",
       "      <th>4</th>\n",
       "      <td>MrCrunchBar</td>\n",
       "      <td>Primainprime</td>\n",
       "      <td>p2</td>\n",
       "      <td>False</td>\n",
       "      <td>None</td>\n",
       "      <td>None</td>\n",
       "      <td>6</td>\n",
       "      <td>6</td>\n",
       "      <td>14</td>\n",
       "      <td>Centiskorch</td>\n",
       "      <td>...</td>\n",
       "      <td>Solgaleo</td>\n",
       "      <td>Talonflame</td>\n",
       "      <td>Centiskorch</td>\n",
       "      <td>Scyther</td>\n",
       "      <td>Togedemaru</td>\n",
       "      <td>Venusaur</td>\n",
       "      <td>Solgaleo</td>\n",
       "      <td>Talonflame</td>\n",
       "      <td>0</td>\n",
       "      <td>3</td>\n",
       "    </tr>\n",
       "    <tr>\n",
       "      <th>...</th>\n",
       "      <td>...</td>\n",
       "      <td>...</td>\n",
       "      <td>...</td>\n",
       "      <td>...</td>\n",
       "      <td>...</td>\n",
       "      <td>...</td>\n",
       "      <td>...</td>\n",
       "      <td>...</td>\n",
       "      <td>...</td>\n",
       "      <td>...</td>\n",
       "      <td>...</td>\n",
       "      <td>...</td>\n",
       "      <td>...</td>\n",
       "      <td>...</td>\n",
       "      <td>...</td>\n",
       "      <td>...</td>\n",
       "      <td>...</td>\n",
       "      <td>...</td>\n",
       "      <td>...</td>\n",
       "      <td>...</td>\n",
       "      <td>...</td>\n",
       "    </tr>\n",
       "    <tr>\n",
       "      <th>220</th>\n",
       "      <td>SecretFBIAgent</td>\n",
       "      <td>bukka</td>\n",
       "      <td>p1</td>\n",
       "      <td>True</td>\n",
       "      <td>1077</td>\n",
       "      <td>1019</td>\n",
       "      <td>6</td>\n",
       "      <td>6</td>\n",
       "      <td>20</td>\n",
       "      <td>Cryogonal</td>\n",
       "      <td>...</td>\n",
       "      <td>__UNKNOWN_POKEMON__</td>\n",
       "      <td>__UNKNOWN_POKEMON__</td>\n",
       "      <td>Cryogonal</td>\n",
       "      <td>Slowking</td>\n",
       "      <td>Dugtrio</td>\n",
       "      <td>Necrozma</td>\n",
       "      <td>__UNKNOWN_POKEMON__</td>\n",
       "      <td>__UNKNOWN_POKEMON__</td>\n",
       "      <td>2</td>\n",
       "      <td>1</td>\n",
       "    </tr>\n",
       "    <tr>\n",
       "      <th>221</th>\n",
       "      <td>BurningAud</td>\n",
       "      <td>Bruh Wobuffet</td>\n",
       "      <td>p2</td>\n",
       "      <td>True</td>\n",
       "      <td>1683</td>\n",
       "      <td>1692</td>\n",
       "      <td>6</td>\n",
       "      <td>6</td>\n",
       "      <td>24</td>\n",
       "      <td>Cursola</td>\n",
       "      <td>...</td>\n",
       "      <td>Giratina</td>\n",
       "      <td>Ribombee</td>\n",
       "      <td>Cursola</td>\n",
       "      <td>Bisharp</td>\n",
       "      <td>Kingdra</td>\n",
       "      <td>Thundurus</td>\n",
       "      <td>Giratina</td>\n",
       "      <td>Ribombee</td>\n",
       "      <td>0</td>\n",
       "      <td>0</td>\n",
       "    </tr>\n",
       "    <tr>\n",
       "      <th>222</th>\n",
       "      <td>gustavohiei</td>\n",
       "      <td>Miravetizin</td>\n",
       "      <td>p1</td>\n",
       "      <td>False</td>\n",
       "      <td>None</td>\n",
       "      <td>None</td>\n",
       "      <td>6</td>\n",
       "      <td>6</td>\n",
       "      <td>15</td>\n",
       "      <td>Charizard</td>\n",
       "      <td>...</td>\n",
       "      <td>__UNKNOWN_POKEMON__</td>\n",
       "      <td>__UNKNOWN_POKEMON__</td>\n",
       "      <td>Charizard</td>\n",
       "      <td>Entei</td>\n",
       "      <td>Cryogonal</td>\n",
       "      <td>Pelipper</td>\n",
       "      <td>__UNKNOWN_POKEMON__</td>\n",
       "      <td>__UNKNOWN_POKEMON__</td>\n",
       "      <td>2</td>\n",
       "      <td>0</td>\n",
       "    </tr>\n",
       "    <tr>\n",
       "      <th>223</th>\n",
       "      <td>Chozen247</td>\n",
       "      <td>143 bpm</td>\n",
       "      <td>p1</td>\n",
       "      <td>True</td>\n",
       "      <td>1381</td>\n",
       "      <td>1428</td>\n",
       "      <td>6</td>\n",
       "      <td>6</td>\n",
       "      <td>14</td>\n",
       "      <td>Jynx</td>\n",
       "      <td>...</td>\n",
       "      <td>__UNKNOWN_POKEMON__</td>\n",
       "      <td>__UNKNOWN_POKEMON__</td>\n",
       "      <td>Jynx</td>\n",
       "      <td>__UNKNOWN_POKEMON__</td>\n",
       "      <td>__UNKNOWN_POKEMON__</td>\n",
       "      <td>__UNKNOWN_POKEMON__</td>\n",
       "      <td>__UNKNOWN_POKEMON__</td>\n",
       "      <td>__UNKNOWN_POKEMON__</td>\n",
       "      <td>5</td>\n",
       "      <td>0</td>\n",
       "    </tr>\n",
       "    <tr>\n",
       "      <th>224</th>\n",
       "      <td>bernardblaq</td>\n",
       "      <td>A.P.2310</td>\n",
       "      <td>p2</td>\n",
       "      <td>True</td>\n",
       "      <td>1040</td>\n",
       "      <td>1000</td>\n",
       "      <td>6</td>\n",
       "      <td>6</td>\n",
       "      <td>18</td>\n",
       "      <td>Centiskorch</td>\n",
       "      <td>...</td>\n",
       "      <td>Slowking</td>\n",
       "      <td>Alakazam</td>\n",
       "      <td>Centiskorch</td>\n",
       "      <td>Lapras</td>\n",
       "      <td>Mimikyu</td>\n",
       "      <td>Entei</td>\n",
       "      <td>Slowking</td>\n",
       "      <td>Alakazam</td>\n",
       "      <td>0</td>\n",
       "      <td>0</td>\n",
       "    </tr>\n",
       "  </tbody>\n",
       "</table>\n",
       "<p>225 rows × 23 columns</p>\n",
       "</div>"
      ],
      "text/plain": [
       "            p1_name           p2_name p_winner is_rated_battle p1_rating  \\\n",
       "0          Rhodes28             sbq1e       p1            True      1391   \n",
       "1        Xebrilag27            Rage69       p2            True      1754   \n",
       "2         Raccoonis    WhoIsJoeLigma?       p1            True      1085   \n",
       "3             bembi  SecondaryStomach       p1            True      1269   \n",
       "4       MrCrunchBar      Primainprime       p2           False      None   \n",
       "..              ...               ...      ...             ...       ...   \n",
       "220  SecretFBIAgent             bukka       p1            True      1077   \n",
       "221      BurningAud     Bruh Wobuffet       p2            True      1683   \n",
       "222     gustavohiei       Miravetizin       p1           False      None   \n",
       "223       Chozen247           143 bpm       p1            True      1381   \n",
       "224     bernardblaq          A.P.2310       p2            True      1040   \n",
       "\n",
       "    p2_rating team1_count team2_count turn_count     p1_poke1  ...  \\\n",
       "0        1440           6           6         12    Dragapult  ...   \n",
       "1        1784           6           6         26    Arctovish  ...   \n",
       "2        1058           6           6         23      Haxorus  ...   \n",
       "3        1315           6           6         14     Ludicolo  ...   \n",
       "4        None           6           6         14  Centiskorch  ...   \n",
       "..        ...         ...         ...        ...          ...  ...   \n",
       "220      1019           6           6         20    Cryogonal  ...   \n",
       "221      1692           6           6         24      Cursola  ...   \n",
       "222      None           6           6         15    Charizard  ...   \n",
       "223      1428           6           6         14         Jynx  ...   \n",
       "224      1000           6           6         18  Centiskorch  ...   \n",
       "\n",
       "                p1_poke5             p1_poke6     p2_poke1  \\\n",
       "0    __UNKNOWN_POKEMON__  __UNKNOWN_POKEMON__    Dragapult   \n",
       "1             Electivire           Sirfetch’d    Arctovish   \n",
       "2                 Luxray  __UNKNOWN_POKEMON__      Haxorus   \n",
       "3    __UNKNOWN_POKEMON__  __UNKNOWN_POKEMON__     Ludicolo   \n",
       "4               Solgaleo           Talonflame  Centiskorch   \n",
       "..                   ...                  ...          ...   \n",
       "220  __UNKNOWN_POKEMON__  __UNKNOWN_POKEMON__    Cryogonal   \n",
       "221             Giratina             Ribombee      Cursola   \n",
       "222  __UNKNOWN_POKEMON__  __UNKNOWN_POKEMON__    Charizard   \n",
       "223  __UNKNOWN_POKEMON__  __UNKNOWN_POKEMON__         Jynx   \n",
       "224             Slowking             Alakazam  Centiskorch   \n",
       "\n",
       "                p2_poke2             p2_poke3             p2_poke4  \\\n",
       "0             Darmanitan             Lycanroc               Lapras   \n",
       "1               Salazzle            Jellicent          Blacephalon   \n",
       "2                Urshifu              Dubwool            Duraludon   \n",
       "3              Thundurus             Magearna  __UNKNOWN_POKEMON__   \n",
       "4                Scyther           Togedemaru             Venusaur   \n",
       "..                   ...                  ...                  ...   \n",
       "220             Slowking              Dugtrio             Necrozma   \n",
       "221              Bisharp              Kingdra            Thundurus   \n",
       "222                Entei            Cryogonal             Pelipper   \n",
       "223  __UNKNOWN_POKEMON__  __UNKNOWN_POKEMON__  __UNKNOWN_POKEMON__   \n",
       "224               Lapras              Mimikyu                Entei   \n",
       "\n",
       "                p2_poke5             p2_poke6 team1_unknown_count  \\\n",
       "0    __UNKNOWN_POKEMON__  __UNKNOWN_POKEMON__                   2   \n",
       "1             Electivire           Sirfetch’d                   0   \n",
       "2                 Luxray  __UNKNOWN_POKEMON__                   1   \n",
       "3    __UNKNOWN_POKEMON__  __UNKNOWN_POKEMON__                   3   \n",
       "4               Solgaleo           Talonflame                   0   \n",
       "..                   ...                  ...                 ...   \n",
       "220  __UNKNOWN_POKEMON__  __UNKNOWN_POKEMON__                   2   \n",
       "221             Giratina             Ribombee                   0   \n",
       "222  __UNKNOWN_POKEMON__  __UNKNOWN_POKEMON__                   2   \n",
       "223  __UNKNOWN_POKEMON__  __UNKNOWN_POKEMON__                   5   \n",
       "224             Slowking             Alakazam                   0   \n",
       "\n",
       "    team2_unknown_count  \n",
       "0                     0  \n",
       "1                     1  \n",
       "2                     0  \n",
       "3                     0  \n",
       "4                     3  \n",
       "..                  ...  \n",
       "220                   1  \n",
       "221                   0  \n",
       "222                   0  \n",
       "223                   0  \n",
       "224                   0  \n",
       "\n",
       "[225 rows x 23 columns]"
      ]
     },
     "execution_count": 383,
     "metadata": {},
     "output_type": "execute_result"
    }
   ],
   "source": [
    "df= generate_frame(LOGS_COUNT)\n",
    "df"
   ]
  },
  {
   "cell_type": "markdown",
   "metadata": {},
   "source": [
    "### Filtering Outliers"
   ]
  },
  {
   "cell_type": "markdown",
   "metadata": {},
   "source": [
    "Are there any teams that do not have 6 Pokémon total?"
   ]
  },
  {
   "cell_type": "code",
   "execution_count": 384,
   "metadata": {},
   "outputs": [
    {
     "data": {
      "text/html": [
       "<div>\n",
       "<style scoped>\n",
       "    .dataframe tbody tr th:only-of-type {\n",
       "        vertical-align: middle;\n",
       "    }\n",
       "\n",
       "    .dataframe tbody tr th {\n",
       "        vertical-align: top;\n",
       "    }\n",
       "\n",
       "    .dataframe thead th {\n",
       "        text-align: right;\n",
       "    }\n",
       "</style>\n",
       "<table border=\"1\" class=\"dataframe\">\n",
       "  <thead>\n",
       "    <tr style=\"text-align: right;\">\n",
       "      <th></th>\n",
       "      <th>p1_name</th>\n",
       "      <th>p2_name</th>\n",
       "      <th>p_winner</th>\n",
       "      <th>is_rated_battle</th>\n",
       "      <th>p1_rating</th>\n",
       "      <th>p2_rating</th>\n",
       "      <th>team1_count</th>\n",
       "      <th>team2_count</th>\n",
       "      <th>turn_count</th>\n",
       "      <th>p1_poke1</th>\n",
       "      <th>...</th>\n",
       "      <th>p1_poke5</th>\n",
       "      <th>p1_poke6</th>\n",
       "      <th>p2_poke1</th>\n",
       "      <th>p2_poke2</th>\n",
       "      <th>p2_poke3</th>\n",
       "      <th>p2_poke4</th>\n",
       "      <th>p2_poke5</th>\n",
       "      <th>p2_poke6</th>\n",
       "      <th>team1_unknown_count</th>\n",
       "      <th>team2_unknown_count</th>\n",
       "    </tr>\n",
       "  </thead>\n",
       "  <tbody>\n",
       "    <tr>\n",
       "      <th>17</th>\n",
       "      <td>Giga㋛Chandelure-</td>\n",
       "      <td>Sinpleto</td>\n",
       "      <td>p1</td>\n",
       "      <td>True</td>\n",
       "      <td>None</td>\n",
       "      <td>None</td>\n",
       "      <td>3</td>\n",
       "      <td>3</td>\n",
       "      <td>14</td>\n",
       "      <td>Crustle</td>\n",
       "      <td>...</td>\n",
       "      <td>__NO_POKEMON__</td>\n",
       "      <td>__NO_POKEMON__</td>\n",
       "      <td>Crustle</td>\n",
       "      <td>Genesect</td>\n",
       "      <td>Vespiquen</td>\n",
       "      <td>__NO_POKEMON__</td>\n",
       "      <td>__NO_POKEMON__</td>\n",
       "      <td>__NO_POKEMON__</td>\n",
       "      <td>0</td>\n",
       "      <td>0</td>\n",
       "    </tr>\n",
       "    <tr>\n",
       "      <th>44</th>\n",
       "      <td>RobinOfYlisse</td>\n",
       "      <td>Mbouchon</td>\n",
       "      <td>p2</td>\n",
       "      <td>True</td>\n",
       "      <td>None</td>\n",
       "      <td>None</td>\n",
       "      <td>24</td>\n",
       "      <td>24</td>\n",
       "      <td>14</td>\n",
       "      <td>Goodra</td>\n",
       "      <td>...</td>\n",
       "      <td>Dragapult</td>\n",
       "      <td>Latias</td>\n",
       "      <td>Goodra</td>\n",
       "      <td>Duraludon</td>\n",
       "      <td>Flygon</td>\n",
       "      <td>Rayquaza</td>\n",
       "      <td>Dragapult</td>\n",
       "      <td>Latias</td>\n",
       "      <td>18</td>\n",
       "      <td>20</td>\n",
       "    </tr>\n",
       "  </tbody>\n",
       "</table>\n",
       "<p>2 rows × 23 columns</p>\n",
       "</div>"
      ],
      "text/plain": [
       "             p1_name   p2_name p_winner is_rated_battle p1_rating p2_rating  \\\n",
       "17  Giga㋛Chandelure-  Sinpleto       p1            True      None      None   \n",
       "44     RobinOfYlisse  Mbouchon       p2            True      None      None   \n",
       "\n",
       "   team1_count team2_count turn_count p1_poke1  ...        p1_poke5  \\\n",
       "17           3           3         14  Crustle  ...  __NO_POKEMON__   \n",
       "44          24          24         14   Goodra  ...       Dragapult   \n",
       "\n",
       "          p1_poke6 p2_poke1   p2_poke2   p2_poke3        p2_poke4  \\\n",
       "17  __NO_POKEMON__  Crustle   Genesect  Vespiquen  __NO_POKEMON__   \n",
       "44          Latias   Goodra  Duraludon     Flygon        Rayquaza   \n",
       "\n",
       "          p2_poke5        p2_poke6 team1_unknown_count team2_unknown_count  \n",
       "17  __NO_POKEMON__  __NO_POKEMON__                   0                   0  \n",
       "44       Dragapult          Latias                  18                  20  \n",
       "\n",
       "[2 rows x 23 columns]"
      ]
     },
     "execution_count": 384,
     "metadata": {},
     "output_type": "execute_result"
    }
   ],
   "source": [
    "not_6_team_battles = df[(df[\"team1_count\"] != 6) | (df[\"team2_count\"] != 6)]\n",
    "not_6_team_battles\n"
   ]
  },
  {
   "cell_type": "markdown",
   "metadata": {},
   "source": [
    "What are the statistics around turn counts?"
   ]
  },
  {
   "cell_type": "code",
   "execution_count": 385,
   "metadata": {},
   "outputs": [
    {
     "data": {
      "text/plain": [
       "(('0.01 Quantile:', 1.2400000000000002),\n",
       " ('0.10 Quantile:', 8.0),\n",
       " ('0.50 Quantile:', 21.0),\n",
       " ('0.90 Quantile:', 31.599999999999994),\n",
       " ('0.99 Quantile:', 56.75999999999999))"
      ]
     },
     "execution_count": 385,
     "metadata": {},
     "output_type": "execute_result"
    }
   ],
   "source": [
    "turn_counts = df[\"turn_count\"]\n",
    "\n",
    "(\n",
    "    (\"0.01 Quantile:\", turn_counts.quantile(0.01)),\n",
    "    (\"0.10 Quantile:\", turn_counts.quantile(0.10)),\n",
    "    (\"0.50 Quantile:\", turn_counts.quantile(0.50)),\n",
    "    (\"0.90 Quantile:\", turn_counts.quantile(0.90)),\n",
    "    (\"0.99 Quantile:\", turn_counts.quantile(0.99)),\n",
    ")\n",
    "\n"
   ]
  },
  {
   "cell_type": "markdown",
   "metadata": {},
   "source": [
    "Let's filter out any battles that are conducted with more of less than 6 Pokémon teams or last less than 2 turns."
   ]
  },
  {
   "cell_type": "code",
   "execution_count": 386,
   "metadata": {},
   "outputs": [
    {
     "data": {
      "text/plain": [
       "220"
      ]
     },
     "execution_count": 386,
     "metadata": {},
     "output_type": "execute_result"
    }
   ],
   "source": [
    "valid_battles = df[(df[\"team1_count\"] == 6) & (df[\"team2_count\"] == 6) & (df[\"turn_count\"] >= 2)]\n",
    "valid_battles.shape[0]"
   ]
  },
  {
   "cell_type": "markdown",
   "metadata": {},
   "source": [
    "## Exploring the Data"
   ]
  },
  {
   "cell_type": "markdown",
   "metadata": {},
   "source": [
    "What portion of Pokémon are unknown for the different teams?"
   ]
  },
  {
   "cell_type": "code",
   "execution_count": 387,
   "metadata": {},
   "outputs": [
    {
     "data": {
      "text/plain": [
       "(('0.25 Quantile:', 0.0),\n",
       " ('0.50 Quantile:', 0.0),\n",
       " ('0.75 Quantile:', 2.0),\n",
       " ('0.90 Quantile:', 3.0),\n",
       " ('0.99 Quantile:', 5.0),\n",
       " ('Mean:', 1.0340909090909092))"
      ]
     },
     "execution_count": 387,
     "metadata": {},
     "output_type": "execute_result"
    }
   ],
   "source": [
    "unknown_counts = pd.concat([valid_battles[\"team1_unknown_count\"], valid_battles[\"team2_unknown_count\"]])\n",
    "unknown_counts\n",
    "\n",
    "(\n",
    "    (\"0.25 Quantile:\", unknown_counts.quantile(0.25)),\n",
    "    (\"0.50 Quantile:\", unknown_counts.quantile(0.50)),\n",
    "    (\"0.75 Quantile:\", unknown_counts.quantile(0.75)),\n",
    "    (\"0.90 Quantile:\", unknown_counts.quantile(0.90)),\n",
    "    (\"0.99 Quantile:\", unknown_counts.quantile(0.99)),\n",
    "    (\"Mean:\",          unknown_counts.mean()),\n",
    ")\n",
    "\n"
   ]
  },
  {
   "cell_type": "markdown",
   "metadata": {},
   "source": [
    "How many rated battles are there?"
   ]
  },
  {
   "cell_type": "code",
   "execution_count": 388,
   "metadata": {},
   "outputs": [
    {
     "data": {
      "text/plain": [
       "(195, 0.8863636363636364)"
      ]
     },
     "execution_count": 388,
     "metadata": {},
     "output_type": "execute_result"
    }
   ],
   "source": [
    "\n",
    "rated_count = valid_battles[valid_battles[\"is_rated_battle\"]].shape[0]\n",
    "\n",
    "(rated_count, rated_count / valid_battles.shape[0])\n"
   ]
  },
  {
   "cell_type": "markdown",
   "metadata": {},
   "source": [
    "Which Pokemon are frequently used?"
   ]
  },
  {
   "cell_type": "code",
   "execution_count": 389,
   "metadata": {},
   "outputs": [],
   "source": [
    "from collections import Counter\n"
   ]
  },
  {
   "cell_type": "code",
   "execution_count": 390,
   "metadata": {},
   "outputs": [],
   "source": [
    "def gen_pokemon_statistics(df, players):\n",
    "    starter_pokemon_counter = Counter()\n",
    "    pokemon_counter = Counter()\n",
    "\n",
    "    for p in players:\n",
    "        starter_pokemon_counter.update(df[p + '_poke1'])\n",
    "\n",
    "        pokemon_counter.update(df[p + '_poke1'])\n",
    "        pokemon_counter.update(df[p + '_poke2'])\n",
    "        pokemon_counter.update(df[p + '_poke3'])\n",
    "        pokemon_counter.update(df[p + '_poke4'])\n",
    "        pokemon_counter.update(df[p + '_poke5'])\n",
    "        pokemon_counter.update(df[p + '_poke6'])\n",
    "\n",
    "\n",
    "    del starter_pokemon_counter[UNKNOWN_POKEMON]\n",
    "    del starter_pokemon_counter[NO_POKEMON]\n",
    "\n",
    "    del pokemon_counter[UNKNOWN_POKEMON]\n",
    "    del pokemon_counter[NO_POKEMON]\n",
    "\n",
    "    return pokemon_counter, starter_pokemon_counter\n"
   ]
  },
  {
   "cell_type": "markdown",
   "metadata": {},
   "source": [
    "Number of Different Pokémon Species Used"
   ]
  },
  {
   "cell_type": "code",
   "execution_count": 391,
   "metadata": {},
   "outputs": [
    {
     "data": {
      "text/plain": [
       "356"
      ]
     },
     "execution_count": 391,
     "metadata": {},
     "output_type": "execute_result"
    }
   ],
   "source": [
    "\n",
    "pokemon_counter, starter_pokemon_counter = gen_pokemon_statistics(df, ['p1', 'p2'])\n",
    "\n",
    "len(pokemon_counter)\n"
   ]
  },
  {
   "cell_type": "markdown",
   "metadata": {},
   "source": [
    "20 Most Common Pokémon Used"
   ]
  },
  {
   "cell_type": "code",
   "execution_count": 392,
   "metadata": {},
   "outputs": [
    {
     "data": {
      "text/plain": [
       "[('Rotom', 28),\n",
       " ('Slowbro', 26),\n",
       " ('Urshifu', 22),\n",
       " ('Salazzle', 20),\n",
       " ('Ninetales', 18),\n",
       " ('Kyurem', 18),\n",
       " ('Slowking', 18),\n",
       " ('Omastar', 18),\n",
       " ('Ho-Oh', 16),\n",
       " ('Rhyperior', 16),\n",
       " ('Thundurus', 16),\n",
       " ('Sandslash', 16),\n",
       " ('Zapdos', 16),\n",
       " ('Gastrodon', 16),\n",
       " ('Talonflame', 14),\n",
       " ('Toxicroak', 14),\n",
       " ('Cinderace', 14),\n",
       " ('Porygon2', 14),\n",
       " ('Duraludon', 14),\n",
       " ('Weezing', 14)]"
      ]
     },
     "execution_count": 392,
     "metadata": {},
     "output_type": "execute_result"
    }
   ],
   "source": [
    "pokemon_counter.most_common(20)\n",
    "\n"
   ]
  },
  {
   "cell_type": "markdown",
   "metadata": {},
   "source": [
    "20 Most Common Starter Pokémon Used"
   ]
  },
  {
   "cell_type": "code",
   "execution_count": 393,
   "metadata": {},
   "outputs": [
    {
     "data": {
      "text/plain": [
       "[('Ho-Oh', 8),\n",
       " ('Centiskorch', 6),\n",
       " ('Articuno', 6),\n",
       " ('Toxicroak', 6),\n",
       " ('Aegislash', 6),\n",
       " ('Latias', 6),\n",
       " ('Rhydon', 6),\n",
       " ('Gastrodon', 6),\n",
       " ('Urshifu', 6),\n",
       " ('Manectric', 4),\n",
       " ('Claydol', 4),\n",
       " ('Mamoswine', 4),\n",
       " ('Xerneas', 4),\n",
       " ('Aromatisse', 4),\n",
       " ('Farfetch’d', 4),\n",
       " ('Hawlucha', 4),\n",
       " ('Talonflame', 4),\n",
       " ('Frosmoth', 4),\n",
       " ('Eldegoss', 4),\n",
       " ('Cradily', 4)]"
      ]
     },
     "execution_count": 393,
     "metadata": {},
     "output_type": "execute_result"
    }
   ],
   "source": [
    "starter_pokemon_counter.most_common(20)"
   ]
  },
  {
   "cell_type": "markdown",
   "metadata": {},
   "source": [
    "For many battles, we do not get to see the entire team of Pokémon that a player is using. What portion of players do we have perfect information on their teams?\n"
   ]
  },
  {
   "cell_type": "code",
   "execution_count": 394,
   "metadata": {},
   "outputs": [
    {
     "data": {
      "text/plain": [
       "(242, 440, 0.55)"
      ]
     },
     "execution_count": 394,
     "metadata": {},
     "output_type": "execute_result"
    }
   ],
   "source": [
    "total_players = 2 * valid_battles.shape[0]\n",
    "total_unknown = sum(valid_battles['team1_unknown_count'] == 0) + sum(valid_battles['team2_unknown_count'] == 0)\n",
    "\n",
    "(total_unknown, total_players, total_unknown / total_players)\n",
    "\n"
   ]
  },
  {
   "cell_type": "markdown",
   "metadata": {},
   "source": [
    "Statistics on Player Ratings\n"
   ]
  },
  {
   "cell_type": "code",
   "execution_count": 397,
   "metadata": {},
   "outputs": [
    {
     "data": {
      "text/plain": [
       "(('0.01 Quantile:', 1000.0),\n",
       " ('0.10 Quantile:', 1024.7),\n",
       " ('0.50 Quantile:', 1353.0),\n",
       " ('0.90 Quantile:', 1736.6000000000001),\n",
       " ('0.99 Quantile:', 2006.6600000000008))"
      ]
     },
     "execution_count": 397,
     "metadata": {},
     "output_type": "execute_result"
    }
   ],
   "source": [
    "ratings = pd.concat([valid_battles[\"p1_rating\"], valid_battles[\"p2_rating\"]])\n",
    "ratings = ratings[ratings > 0]\n",
    "\n",
    "LOW_RATING = 1050\n",
    "MID_RATING = 1350\n",
    "HIGH_RATING = 1650\n",
    "\n",
    "(\n",
    "    (\"0.01 Quantile:\", ratings.quantile(0.01)),\n",
    "    (\"0.10 Quantile:\", ratings.quantile(0.10)),\n",
    "    (\"0.50 Quantile:\", ratings.quantile(0.50)),\n",
    "    (\"0.90 Quantile:\", ratings.quantile(0.90)),\n",
    "    (\"0.99 Quantile:\", ratings.quantile(0.99)),\n",
    ")\n"
   ]
  },
  {
   "cell_type": "code",
   "execution_count": 398,
   "metadata": {},
   "outputs": [],
   "source": [
    "import matplotlib.pyplot as plt"
   ]
  },
  {
   "cell_type": "code",
   "execution_count": 399,
   "metadata": {},
   "outputs": [
    {
     "data": {
      "text/plain": [
       "(array([93., 34., 71., 75., 49., 18., 12., 20.,  5.,  1.]),\n",
       " array([1000.0, 1124.0, 1248.0, 1372.0, 1496.0, 1620.0, 1744.0, 1868.0,\n",
       "        1992.0, 2116.0, 2240.0], dtype=object),\n",
       " <BarContainer object of 10 artists>)"
      ]
     },
     "execution_count": 399,
     "metadata": {},
     "output_type": "execute_result"
    },
    {
     "data": {
      "image/png": "[encoded data removed]",
      "text/plain": [
       "<Figure size 432x288 with 1 Axes>"
      ]
     },
     "metadata": {
      "needs_background": "light"
     },
     "output_type": "display_data"
    }
   ],
   "source": [
    "plt.hist(ratings)\n"
   ]
  },
  {
   "cell_type": "markdown",
   "metadata": {},
   "source": [
    "How Many High Ranked players are there?\n"
   ]
  },
  {
   "cell_type": "code",
   "execution_count": 400,
   "metadata": {},
   "outputs": [
    {
     "data": {
      "text/plain": [
       "50"
      ]
     },
     "execution_count": 400,
     "metadata": {},
     "output_type": "execute_result"
    }
   ],
   "source": [
    "sum(valid_battles['p1_rating'] > HIGH_RATING) + sum(valid_battles['p2_rating'] > HIGH_RATING)"
   ]
  },
  {
   "cell_type": "markdown",
   "metadata": {},
   "source": [
    "Do team statistics look different for high ranked players?"
   ]
  },
  {
   "cell_type": "code",
   "execution_count": 401,
   "metadata": {},
   "outputs": [],
   "source": [
    "hr_starter_pokemon_counter = Counter()\n",
    "hr_pokemon_counter = Counter()\n",
    "\n",
    "for p in [\"p1\", \"p2\"]:\n",
    "    df = valid_battles[valid_battles[p + \"_rating\"] >= HIGH_RATING]\n",
    "    hr_starter_pokemon_counter.update(df[p + '_poke1'])\n",
    "\n",
    "    hr_pokemon_counter.update(df[p + '_poke1'])\n",
    "    hr_pokemon_counter.update(df[p + '_poke2'])\n",
    "    hr_pokemon_counter.update(df[p + '_poke3'])\n",
    "    hr_pokemon_counter.update(df[p + '_poke4'])\n",
    "    hr_pokemon_counter.update(df[p + '_poke5'])\n",
    "    hr_pokemon_counter.update(df[p + '_poke6'])\n",
    "\n",
    "del hr_starter_pokemon_counter[UNKNOWN_POKEMON]\n",
    "del hr_starter_pokemon_counter[NO_POKEMON]\n",
    "\n",
    "del hr_pokemon_counter[UNKNOWN_POKEMON]\n",
    "del hr_pokemon_counter[NO_POKEMON]\n",
    "\n"
   ]
  },
  {
   "cell_type": "code",
   "execution_count": 402,
   "metadata": {},
   "outputs": [
    {
     "data": {
      "text/plain": [
       "[('Xatu', 4),\n",
       " ('Arctovish', 2),\n",
       " ('Runerigus', 2),\n",
       " ('Avalugg', 2),\n",
       " ('Mantine', 2),\n",
       " ('Articuno', 2),\n",
       " ('Rhyperior', 2),\n",
       " ('Pyukumuku', 2),\n",
       " ('Claydol', 2),\n",
       " ('Rhydon', 2),\n",
       " ('Sharpedo', 2),\n",
       " ('Inteleon', 2),\n",
       " ('Cofagrigus', 2),\n",
       " ('Ho-Oh', 2),\n",
       " ('Salazzle', 2),\n",
       " ('Snorlax', 2),\n",
       " ('Gigalith', 2),\n",
       " ('Kyurem', 2),\n",
       " ('Goodra', 2),\n",
       " ('Thievul', 2)]"
      ]
     },
     "execution_count": 402,
     "metadata": {},
     "output_type": "execute_result"
    }
   ],
   "source": [
    "hr_starter_pokemon_counter.most_common(20)"
   ]
  },
  {
   "cell_type": "code",
   "execution_count": 403,
   "metadata": {},
   "outputs": [
    {
     "data": {
      "text/plain": [
       "[('Salazzle', 8),\n",
       " ('Slowbro', 6),\n",
       " ('Jellicent', 6),\n",
       " ('Porygon2', 5),\n",
       " ('Slowking', 5),\n",
       " ('Claydol', 4),\n",
       " ('Snorlax', 4),\n",
       " ('Xatu', 4),\n",
       " ('Kyurem', 4),\n",
       " ('Dugtrio', 4),\n",
       " ('Solgaleo', 4),\n",
       " ('Coalossal', 4),\n",
       " ('Diggersby', 4),\n",
       " ('Exeggutor', 4),\n",
       " ('Tapu Fini', 4),\n",
       " ('Giratina', 4),\n",
       " ('Rotom', 4),\n",
       " ('Excadrill', 4),\n",
       " ('Duraludon', 4),\n",
       " ('Electivire', 4)]"
      ]
     },
     "execution_count": 403,
     "metadata": {},
     "output_type": "execute_result"
    }
   ],
   "source": [
    "hr_pokemon_counter.most_common(20)\n"
   ]
  },
  {
   "cell_type": "markdown",
   "metadata": {},
   "source": [
    "## Saving Data"
   ]
  },
  {
   "cell_type": "code",
   "execution_count": 404,
   "metadata": {},
   "outputs": [],
   "source": [
    "valid_battles.to_csv(OUTPUT_DIR + '/battle_stats.csv')\n"
   ]
  },
  {
   "cell_type": "code",
   "execution_count": null,
   "metadata": {},
   "outputs": [],
   "source": []
  }
 ],
 "metadata": {
  "interpreter": {
   "hash": "a48e6b4bcafa8268e118fccfda0c48a06d8e2caa41bbf9444eeba1b7211069fd"
  },
  "kernelspec": {
   "display_name": "Python 3.9.11 ('pokemon')",
   "language": "python",
   "name": "python3"
  },
  "language_info": {
   "codemirror_mode": {
    "name": "ipython",
    "version": 3
   },
   "file_extension": ".py",
   "mimetype": "text/x-python",
   "name": "python",
   "nbconvert_exporter": "python",
   "pygments_lexer": "ipython3",
   "version": "3.9.11"
  },
  "orig_nbformat": 4
 },
 "nbformat": 4,
 "nbformat_minor": 2
}
