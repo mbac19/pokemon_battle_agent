{
 "cells": [
  {
   "cell_type": "markdown",
   "metadata": {},
   "source": [
    "# Understanding the Meta\n",
    "\n",
    "Imagine you are a professional rock-paper-scizzors player, and you qualify for the next international rock-paper-scizzors tournament. Whoever wins the most games of rock-paper-scissors wins the tournament and takes home the $10,000 prize! Doing a bit of research on the participants, you find that based on recent games played, 70% of the time rock is played, 25% of the time paper is played, and 5% of the time scizzors is played. Based on this information, your strategy is to always play paper, but to switch to scizzors if there is a paper-to-paper stalemate for 2 rounds. You play through the entire tournament with this strategy and walk away with an 85% win rate, which ranks you at 1st place!\n",
    "\n",
    "Now, feeling confident, you enter next year's rock-paper-scizzors tournament but neglect to do any sort of research on recently used rock-paper-scizzors strategies. Instead, you stick to the same strategy that won you the last tournament. Unfortunately, this turns out to be a disaster; the dominant strategy for the new tournament is scizzors, and you walk away with a 15% win rate, placing you well below average.\n",
    "\n",
    "There are a few major takeaways:\n",
    "\n",
    "- Rock-paper-scizzors has no objective optimal strategy\n",
    "- Though there is little strategy to winning a single game of rock-paper-scizzors, there may be a lot of strategy involved in winning tournaments.\n",
    "- It's not good enough to know the game; you need to know the players\n",
    "\n",
    "\n",
    "In some ways, Pokémon is a more complex version of rock-paper-scizzors. You put together a team of 6 Pokémon, each with its own strengths and weaknesses. Naturally, your team overall will also have strengths and weaknesses depending on the Pokémon you choose. Unlike rock-paper-scizzors, there are many classes of strategies and the weaknesses of some strategies may be overcome if an agent plays well.\n",
    "\n",
    "In competitive game play, this concept is referred to as the game *meta*. The meta is a collection of strategies that competitive players agree upon as the best. In Pokémon, the meta may change as new Pokémon and new moves are added, and if you are playing Pokémon at a competitive level, you need to have an understanding of the current meta before you join a tournament. It doesn't make sense to join a tournament after practicing Pokémon in isolation similarly to how it wouldn't make sense to join a rock-paper-scizzors tournmanent after spending a week practicing rock-paper-scizzors by yourself."
   ]
  },
  {
   "cell_type": "markdown",
   "metadata": {},
   "source": []
  }
 ],
 "metadata": {
  "language_info": {
   "name": "python"
  },
  "orig_nbformat": 4
 },
 "nbformat": 4,
 "nbformat_minor": 2
}
