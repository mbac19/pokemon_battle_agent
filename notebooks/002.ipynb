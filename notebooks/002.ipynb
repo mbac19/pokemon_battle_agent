{
 "cells": [
  {
   "cell_type": "markdown",
   "metadata": {},
   "source": [
    "## Exploring Battle Logs"
   ]
  },
  {
   "cell_type": "code",
   "execution_count": 1,
   "metadata": {},
   "outputs": [],
   "source": [
    "from bs4 import BeautifulSoup\n",
    "\n"
   ]
  },
  {
   "cell_type": "code",
   "execution_count": 3,
   "metadata": {},
   "outputs": [],
   "source": [
    "INPUT_DIR=\"../battle_data\"\n",
    "OUTPUT_DIR=\"../battle_data_parsed/v1\"\n",
    "\n",
    "with open(INPUT_DIR + \"/0001.html\") as fp:\n",
    "    soup = BeautifulSoup(fp, \"html.parser\")\n"
   ]
  },
  {
   "cell_type": "code",
   "execution_count": 40,
   "metadata": {},
   "outputs": [],
   "source": [
    "UNKNOWN_POKEMON_ID_PREFIX = 'UNKNOWN_POKEMON'\n",
    "\n",
    "class Pokemon:\n",
    "    def __init__(self, player, id, logs):\n",
    "        self._id = id\n",
    "        self._player = player\n",
    "        self._logs = logs\n"
   ]
  },
  {
   "cell_type": "code",
   "execution_count": 41,
   "metadata": {},
   "outputs": [],
   "source": [
    "class PokemonTeam:\n",
    "    def __init__(self, player, logs):\n",
    "        self._player = player\n",
    "        self._logs = logs\n",
    "        self._pokemon = {}\n",
    "\n",
    "\n",
    "    def __len__(self):\n",
    "        for log in self._logs:\n",
    "            if log[0] == 'teamsize' and log[1] == self._player:\n",
    "                return int(log[2])\n",
    "\n",
    "        return 0\n",
    "\n",
    "\n",
    "    def _load_pokemon(self):\n",
    "        count = len(self)\n",
    "        found_count = 0\n",
    "\n",
    "        for log in self._logs:\n",
    "            if log[0] == 'switch' and log[1].startswith(self._player + 'a:'):\n",
    "                p_id = log[2]\n",
    "                if p_id in self._pokemon:\n",
    "                    continue\n",
    "\n",
    "                pokemon = Pokemon(player=self._player, id=p_id, logs=self._logs)\n",
    "                self._pokemon[pokemon] = pokemon\n",
    "                found_count += 1\n",
    "\n",
    "        while found_count < count:\n",
    "            p_id = UNKNOWN_POKEMON_ID_PREFIX + \"_\" + str(count - found_count)\n",
    "            pokemon = Pokemon(player=self._player, id=p_id, logs=self._logs)\n",
    "            self._pokemon[p_id] = pokemon\n",
    "            found_count += 1\n",
    "\n",
    "\n"
   ]
  },
  {
   "cell_type": "code",
   "execution_count": 42,
   "metadata": {},
   "outputs": [],
   "source": [
    "class BattleLogs:\n",
    "    def __init__(self, logs):\n",
    "        self._logs = logs\n",
    "\n",
    "    \n",
    "    @property\n",
    "    def tier(self):\n",
    "        for log in self._logs:\n",
    "            if log[0] == \"tier\":\n",
    "                return log[1]\n",
    "\n",
    "    @property\n",
    "    def is_rated(self):\n",
    "        for log in log:\n",
    "            if log[0] == 'rated':\n",
    "                return True\n",
    "\n",
    "        return False\n",
    "\n",
    "    \n",
    "    @property\n",
    "    def rules(self):\n",
    "        return [x[1] for x in self._logs if x[0] == 'rule']\n",
    "\n",
    "\n",
    "    @property\n",
    "    def p1_team(self):\n",
    "        return PokemonTeam(player='p1', logs=self._logs)\n",
    "\n",
    "\n",
    "    @property\n",
    "    def p2_team(self):\n",
    "        return PokemonTeam(player='p2', logs=self._logs)\n",
    "\n"
   ]
  },
  {
   "cell_type": "code",
   "execution_count": 49,
   "metadata": {},
   "outputs": [],
   "source": [
    "el = soup.find_all('script', class_='battle-log-data')[0]\n",
    "\n",
    "raw_logs = [x.split('|')[1:] for x in el.text.split('\\n') if len(x) > 0]\n",
    "\n",
    "logs = BattleLogs(raw_logs)\n"
   ]
  },
  {
   "cell_type": "code",
   "execution_count": 50,
   "metadata": {},
   "outputs": [
    {
     "data": {
      "text/plain": [
       "{<__main__.Pokemon at 0x7fd7b89c7790>: <__main__.Pokemon at 0x7fd7b89c7790>,\n",
       " <__main__.Pokemon at 0x7fd7b8c10d30>: <__main__.Pokemon at 0x7fd7b8c10d30>,\n",
       " <__main__.Pokemon at 0x7fd7b8c102e0>: <__main__.Pokemon at 0x7fd7b8c102e0>,\n",
       " <__main__.Pokemon at 0x7fd7b8c105b0>: <__main__.Pokemon at 0x7fd7b8c105b0>,\n",
       " <__main__.Pokemon at 0x7fd7b8c106d0>: <__main__.Pokemon at 0x7fd7b8c106d0>}"
      ]
     },
     "execution_count": 50,
     "metadata": {},
     "output_type": "execute_result"
    }
   ],
   "source": [
    "team1 = logs.p1_team\n",
    "team1._load_pokemon()\n",
    "team1._pokemon"
   ]
  },
  {
   "cell_type": "code",
   "execution_count": 55,
   "metadata": {},
   "outputs": [
    {
     "name": "stdout",
     "output_type": "stream",
     "text": [
      "['switch', 'p2a: Duraludon', 'Duraludon, L84, F', '255\\\\/255']\n",
      "['switch', 'p2a: Archeops', 'Archeops, L82, M', '257\\\\/257']\n",
      "['switch', 'p2a: Gothitelle', 'Gothitelle, L86, F', '261\\\\/261']\n",
      "['switch', 'p2a: Regidrago', 'Regidrago, L78', '440\\\\/440']\n",
      "['switch', 'p2a: Darmanitan', 'Darmanitan-Galar, L78, M', '292\\\\/292']\n",
      "['switch', 'p2a: Lunala', 'Lunala, L72', '316\\\\/316']\n"
     ]
    }
   ],
   "source": [
    "for log in raw_logs:\n",
    "    if log[0] == 'switch' and log[1].startswith('p2a'):\n",
    "        print(log)"
   ]
  },
  {
   "cell_type": "code",
   "execution_count": null,
   "metadata": {},
   "outputs": [],
   "source": []
  }
 ],
 "metadata": {
  "interpreter": {
   "hash": "a48e6b4bcafa8268e118fccfda0c48a06d8e2caa41bbf9444eeba1b7211069fd"
  },
  "kernelspec": {
   "display_name": "Python 3.9.11 ('pokemon')",
   "language": "python",
   "name": "python3"
  },
  "language_info": {
   "codemirror_mode": {
    "name": "ipython",
    "version": 3
   },
   "file_extension": ".py",
   "mimetype": "text/x-python",
   "name": "python",
   "nbconvert_exporter": "python",
   "pygments_lexer": "ipython3",
   "version": "3.9.11"
  },
  "orig_nbformat": 4
 },
 "nbformat": 4,
 "nbformat_minor": 2
}
